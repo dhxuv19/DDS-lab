{
  "nbformat": 4,
  "nbformat_minor": 0,
  "metadata": {
    "colab": {
      "provenance": [],
      "include_colab_link": true
    },
    "kernelspec": {
      "name": "python3",
      "display_name": "Python 3"
    },
    "language_info": {
      "name": "python"
    }
  },
  "cells": [
    {
      "cell_type": "markdown",
      "metadata": {
        "id": "view-in-github",
        "colab_type": "text"
      },
      "source": [
        "<a href=\"https://colab.research.google.com/github/Natakarani/Desing_of_Data_Structures/blob/main/Module6/Lesson2.ipynb\" target=\"_parent\"><img src=\"https://colab.research.google.com/assets/colab-badge.svg\" alt=\"Open In Colab\"/></a>"
      ]
    },
    {
      "cell_type": "markdown",
      "source": [
        "# 📘 Lesson 2: Primitive vs Non-Primitive Data Structures\n",
        "\n",
        "**Objective**:\n",
        "\n",
        "The objective of this topic is to understand how data is categorized in C programming, how it is stored in memory, and how to efficiently use primitive and non-primitive data types to build powerful programs.\n"
      ],
      "metadata": {
        "id": "r91LAT-bFzWN"
      }
    },
    {
      "cell_type": "markdown",
      "source": [
        " Why Primitive and Non-Primitive Data Types?\n",
        "\n",
        "✅ **Primitive Data Types:**\n",
        "\n",
        "Used to store simple values like numbers and characters.\n",
        "\n",
        "Foundation of programming — used in all operations.\n",
        "\n",
        "Memory-efficient and fast for computations.\n",
        "\n",
        "**Non-Primitive Data Types:**\n",
        "\n",
        "Used to store collections of data or complex structures.\n",
        "\n",
        "Allows data organization, manipulation, and efficient memory handling.\n",
        "\n",
        "Supports real-world data modeling (e.g., students, employees, products)."
      ],
      "metadata": {
        "id": "emQbD2vGF4Xa"
      }
    },
    {
      "cell_type": "code",
      "execution_count": 14,
      "metadata": {
        "id": "jS_HNNrnFw6I",
        "colab": {
          "base_uri": "https://localhost:8080/"
        },
        "outputId": "ae4b69a4-d872-4045-c812-abfb71927fc0"
      },
      "outputs": [
        {
          "output_type": "stream",
          "name": "stdout",
          "text": [
            "Overwriting program.c\n"
          ]
        }
      ],
      "source": [
        "%%writefile program.c\n",
        "#include <stdio.h>\n",
        "int main() {\n",
        "    int age = 20;\n",
        "    char grade = 'A';\n",
        "    float height = 5.9;\n",
        "    double pi = 3.141592;\n",
        "\n",
        "    printf(\"Age: %d\\n\", age);\n",
        "    printf(\"Grade: %c\\n\", grade);\n",
        "    printf(\"Height: %.1f\\n\", height);\n",
        "    printf(\"Value of Pi: %lf\\n\", pi);\n",
        "\n",
        "    return 0;\n",
        "}\n"
      ]
    },
    {
      "cell_type": "markdown",
      "source": [
        "## 🧠 Observation:\n",
        "\n",
        "- Primitive types hold **single values**\n",
        "- Non-primitive types like `list` can hold **multiple values**\n",
        "- Lists allow **insertion, search, traversal** – features of data structures\n",
        "\n",
        "NON PRIMITIVE DATA TYPES:\n",
        "Non-Primitive Data Types in C\n",
        "Type\tDescription\n",
        "Array\tCollection of elements of same type\n",
        "Structure\tGroup of different data types\n",
        "Union\tSimilar to structure, shared memory\n",
        "Pointer\tStores address of another variable\n",
        "Linked List\tDynamic collection using pointers\n"
      ],
      "metadata": {
        "id": "bQvEnr1HF-zj"
      }
    },
    {
      "cell_type": "code",
      "source": [
        "\n",
        "%%writefile program1.c\n",
        "#include <stdio.h>\n",
        "\n",
        "struct Student {\n",
        "    int id;\n",
        "    char name[20];\n",
        "    float marks;\n",
        "};\n",
        "\n",
        "int main() {\n",
        "    struct Student s1 = {1, \"John\", 89.5};\n",
        "    printf(\"ID: %d\\nName: %s\\nMarks: %.2f\\n\", s1.id, s1.name, s1.marks);\n",
        "    return 0;\n",
        "}"
      ],
      "metadata": {
        "colab": {
          "base_uri": "https://localhost:8080/"
        },
        "id": "w-f3xcGgcQ4-",
        "outputId": "9b121dc2-1cbb-430b-b81f-721d0de6e220"
      },
      "execution_count": 7,
      "outputs": [
        {
          "output_type": "stream",
          "name": "stdout",
          "text": [
            "Overwriting program.c\n"
          ]
        }
      ]
    },
    {
      "cell_type": "markdown",
      "source": [],
      "metadata": {
        "id": "BxEf5LGrbUt-"
      }
    },
    {
      "cell_type": "code",
      "source": [
        "%%writefile program2.c\n",
        "#include <stdio.h>\n",
        "int main() {\n",
        "    int a = 10;\n",
        "    int *ptr = &a;\n",
        "\n",
        "    printf(\"Value of a: %d\\n\", a);\n",
        "    printf(\"Address of a: %p\\n\", ptr);\n",
        "    printf(\"Value from pointer: %d\\n\", *ptr);\n",
        "\n",
        "    return 0;\n",
        "}"
      ],
      "metadata": {
        "colab": {
          "base_uri": "https://localhost:8080/"
        },
        "id": "sAls3FUFbIko",
        "outputId": "e6ae265b-793a-4eaf-d971-65cb2d9ca41f"
      },
      "execution_count": 8,
      "outputs": [
        {
          "output_type": "stream",
          "name": "stdout",
          "text": [
            "Overwriting program.c\n"
          ]
        }
      ]
    },
    {
      "cell_type": "code",
      "source": [
        "%%writefile program3.c\n",
        "#include <stdio.h>\n",
        "int main() {\n",
        "    int marks[5] = {85, 90, 75, 88, 92};\n",
        "    for(int i = 0; i < 5; i++) {\n",
        "        printf(\"marks[%d] = %d\\n\", i, marks[i]);\n",
        "    }\n",
        "    return 0;\n",
        "}\n"
      ],
      "metadata": {
        "id": "VgXYYsp4bGEu",
        "colab": {
          "base_uri": "https://localhost:8080/"
        },
        "outputId": "494df2ab-7c2c-4414-da25-6cb1484095cc"
      },
      "execution_count": 9,
      "outputs": [
        {
          "output_type": "stream",
          "name": "stdout",
          "text": [
            "Overwriting program.c\n"
          ]
        }
      ]
    },
    {
      "cell_type": "code",
      "source": [
        "%%writefile program4.c\n",
        "#include <stdio.h>\n",
        "\n",
        "union Data {\n",
        "    int i;\n",
        "    float f;\n",
        "    char ch;\n",
        "};\n",
        "\n",
        "int main() {\n",
        "    union Data d;\n",
        "\n",
        "    d.i = 10;\n",
        "    printf(\"d.i = %d\\n\", d.i);\n",
        "\n",
        "    d.f = 3.14;  // Overwrites i\n",
        "    printf(\"d.f = %.2f\\n\", d.f);\n",
        "    printf(\"d.i (after writing f) = %d\\n\", d.i); // Value corrupted\n",
        "\n",
        "    d.ch = 'A';  // Overwrites f\n",
        "    printf(\"d.ch = %c\\n\", d.ch);\n",
        "    printf(\"d.f (after writing ch) = %.2f\\n\", d.f); // Value corrupted\n",
        "\n",
        "    return 0;\n",
        "}\n"
      ],
      "metadata": {
        "colab": {
          "base_uri": "https://localhost:8080/"
        },
        "id": "xT_kqvOXiKed",
        "outputId": "16845061-d68f-4929-a35a-6083c570a042"
      },
      "execution_count": 18,
      "outputs": [
        {
          "output_type": "stream",
          "name": "stdout",
          "text": [
            "Writing program4.c\n"
          ]
        }
      ]
    },
    {
      "cell_type": "code",
      "source": [
        "# ✅ Compile the C program\n",
        "!gcc program4.c -o program4\n"
      ],
      "metadata": {
        "id": "xaMBW5s5GD4_"
      },
      "execution_count": 19,
      "outputs": []
    },
    {
      "cell_type": "code",
      "source": [
        "# ✅ Run the compiled C program\n",
        "!./program4\n"
      ],
      "metadata": {
        "id": "melbabE5GFk2",
        "colab": {
          "base_uri": "https://localhost:8080/"
        },
        "outputId": "0df81b96-e6a0-4ca1-c28f-59396f4a6cf4"
      },
      "execution_count": 20,
      "outputs": [
        {
          "output_type": "stream",
          "name": "stdout",
          "text": [
            "d.i = 10\n",
            "d.f = 3.14\n",
            "d.i (after writing f) = 1078523331\n",
            "d.ch = A\n",
            "d.f (after writing ch) = 3.14\n"
          ]
        }
      ]
    },
    {
      "cell_type": "markdown",
      "source": [
        "Conclusion:\n",
        "Primitive data types are simple and essential for basic operations.\n",
        "\n",
        "Non-primitive data types help in handling multiple values, creating complex structures, and managing dynamic memory.\n",
        "\n",
        "Understanding both is crucial to writing efficient and scalable C programs."
      ],
      "metadata": {
        "id": "ULvzuvaTGHVO"
      }
    }
  ]
}
