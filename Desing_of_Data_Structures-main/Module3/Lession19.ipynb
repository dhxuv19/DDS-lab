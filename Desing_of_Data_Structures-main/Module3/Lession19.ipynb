{
  "nbformat": 4,
  "nbformat_minor": 0,
  "metadata": {
    "colab": {
      "provenance": [],
      "authorship_tag": "ABX9TyOXRHc0JzdkuMMHjlrBFWUs",
      "include_colab_link": true
    },
    "kernelspec": {
      "name": "python3",
      "display_name": "Python 3"
    },
    "language_info": {
      "name": "python"
    }
  },
  "cells": [
    {
      "cell_type": "markdown",
      "metadata": {
        "id": "view-in-github",
        "colab_type": "text"
      },
      "source": [
        "<a href=\"https://colab.research.google.com/github/shivshambhoo/Desing_of_Data_Structures/blob/main/Module3/Lession19.ipynb\" target=\"_parent\"><img src=\"https://colab.research.google.com/assets/colab-badge.svg\" alt=\"Open In Colab\"/></a>"
      ]
    },
    {
      "cell_type": "code",
      "execution_count": null,
      "metadata": {
        "id": "MGvQS7VRaPTH"
      },
      "outputs": [],
      "source": []
    },
    {
      "cell_type": "markdown",
      "source": [
        "Linked Lists & Their Applications\n",
        "Objectives:\n",
        "\n",
        "Understand types and representations of linked lists.\n",
        "\n",
        "Learn about dynamic memory, pointers, and self-referential structures.\n",
        "\n",
        "Explore real-world use cases of linked lists.\n",
        "\n",
        "Topics Covered:\n",
        "\n",
        "Singly Linked List: Node creation, insertion, deletion, traversal.\n",
        "\n",
        "Doubly & Circular Linked Lists: Operations & benefits.\n",
        "\n",
        "Applications:\n",
        "\n",
        "Memory management.\n",
        "\n",
        "Undo/Redo functionality.\n",
        "\n",
        "Polynomial manipulation.\n",
        "\n",
        "Real-time scheduling .\n",
        "\n",
        "Real-world applications\n",
        "\n",
        "✅ Application Example – Undo/Redo System:\n"
      ],
      "metadata": {
        "id": "Sh0JRD9IaR6i"
      }
    },
    {
      "cell_type": "code",
      "source": [
        "# Step 1: Write the C++ code to a file\n",
        "cpp_code = \"\"\"\n",
        "#include <iostream>\n",
        "using namespace std;\n",
        "\n",
        "struct Node {\n",
        "    string action;\n",
        "    Node* next;\n",
        "};\n",
        "\n",
        "class UndoRedo {\n",
        "    Node* top;\n",
        "public:\n",
        "    UndoRedo() { top = nullptr; }\n",
        "\n",
        "    void performAction(string act) {\n",
        "        Node* newNode = new Node{act, top};\n",
        "        top = newNode;\n",
        "    }\n",
        "\n",
        "    void undo() {\n",
        "        if (!top) {\n",
        "            cout << \"Nothing to undo.\\\\n\";\n",
        "            return;\n",
        "        }\n",
        "        cout << \"Undo: \" << top->action << endl;\n",
        "        Node* temp = top;\n",
        "        top = top->next;\n",
        "        delete temp;\n",
        "    }\n",
        "\n",
        "    void showActions() {\n",
        "        Node* temp = top;\n",
        "        cout << \"Action history:\\\\n\";\n",
        "        while (temp) {\n",
        "            cout << temp->action << \" \";\n",
        "            temp = temp->next;\n",
        "        }\n",
        "        cout << endl;\n",
        "    }\n",
        "};\n",
        "\n",
        "int main() {\n",
        "    UndoRedo obj;\n",
        "    obj.performAction(\"Type A\");\n",
        "    obj.performAction(\"Type B\");\n",
        "    obj.showActions();\n",
        "    obj.undo();\n",
        "    obj.showActions();\n",
        "    return 0;\n",
        "}\n",
        "\"\"\"\n",
        "\n",
        "# Save code to file\n",
        "with open(\"undo_redo.cpp\", \"w\") as file:\n",
        "    file.w\n"
      ],
      "metadata": {
        "id": "VmRwiNfxawFx"
      },
      "execution_count": null,
      "outputs": []
    }
  ]
}