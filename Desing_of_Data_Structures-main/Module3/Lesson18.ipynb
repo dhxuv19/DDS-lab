{
  "cells": [
    {
      "cell_type": "markdown",
      "metadata": {
        "id": "view-in-github",
        "colab_type": "text"
      },
      "source": [
        "<a href=\"https://colab.research.google.com/github/RuhiRj/Desing_of_Data_Structures/blob/main/Module3/Lesson18.ipynb\" target=\"_parent\"><img src=\"https://colab.research.google.com/assets/colab-badge.svg\" alt=\"Open In Colab\"/></a>"
      ]
    },
    {
      "cell_type": "markdown",
      "metadata": {
        "id": "YJfWSk9QyuKl"
      },
      "source": [
        "# Lesson 18: Linked Stacks and Queues\n",
        "\n",
        "This lesson introduces **Linked Stacks** and **Linked Queues**, which are implementations of the stack and queue data structures using linked lists. These dynamic structures allow flexible memory usage and avoid fixed-size limitations of array-based implementations."
      ],
      "id": "YJfWSk9QyuKl"
    },
    {
      "cell_type": "markdown",
      "metadata": {
        "id": "0Vnw0ROzyuKq"
      },
      "source": [
        "## Stack Using Linked List\n",
        "\n",
        "A stack is a linear data structure that follows the **LIFO (Last In, First Out)** principle.\n",
        "\n",
        "**Operations**:\n",
        "- `push(x)`: Add element `x` to the top.\n",
        "- `pop()`: Remove and return the top element.\n",
        "- `peek()`: Return the top element without removing it.\n",
        "- `isEmpty()`: Check if the stack is empty.\n",
        "\n",
        "**Advantages of Linked Stack**:\n",
        "- No size limitation.\n",
        "- Efficient memory usage.\n",
        "- No shifting required for insertions or deletions."
      ],
      "id": "0Vnw0ROzyuKq"
    },
    {
      "cell_type": "code",
      "metadata": {
        "id": "YXj4RMBsyuKr"
      },
      "source": [
        "// Stack implementation using Linked List\n",
        "#include <iostream>\n",
        "using namespace std;\n",
        "\n",
        "struct StackNode {\n",
        "    int data;\n",
        "    StackNode* next;\n",
        "};\n",
        "\n",
        "class Stack {\n",
        "private:\n",
        "    StackNode* top;\n",
        "public:\n",
        "    Stack() { top = nullptr; }\n",
        "\n",
        "    void push(int value) {\n",
        "        StackNode* newNode = new StackNode{value, top};\n",
        "        top = newNode;\n",
        "    }\n",
        "\n",
        "    void pop() {\n",
        "        if (!top) {\n",
        "            cout << \"Stack Underflow\\n\";\n",
        "            return;\n",
        "        }\n",
        "        StackNode* temp = top;\n",
        "        top = top->next;\n",
        "        delete temp;\n",
        "    }\n",
        "\n",
        "    int peek() {\n",
        "        if (!top) return -1;\n",
        "        return top->data;\n",
        "    }\n",
        "\n",
        "    bool isEmpty() {\n",
        "        return top == nullptr;\n",
        "    }\n",
        "\n",
        "    void display() {\n",
        "        StackNode* temp = top;\n",
        "        while (temp) {\n",
        "            cout << temp->data << \" \";\n",
        "            temp = temp->next;\n",
        "        }\n",
        "        cout << endl;\n",
        "    }\n",
        "};"
      ],
      "id": "YXj4RMBsyuKr",
      "execution_count": null,
      "outputs": []
    },
    {
      "cell_type": "markdown",
      "metadata": {
        "id": "6dM9ErI1yuKv"
      },
      "source": [
        "## Queue Using Linked List\n",
        "\n",
        "A queue is a linear data structure that follows the **FIFO (First In, First Out)** principle.\n",
        "\n",
        "**Operations**:\n",
        "- `enqueue(x)`: Insert element `x` at the rear.\n",
        "- `dequeue()`: Remove element from the front.\n",
        "- `front()`: Return front element.\n",
        "- `isEmpty()`: Check if queue is empty.\n",
        "\n",
        "**Advantages of Linked Queue**:\n",
        "- No overflow if memory is available.\n",
        "- Efficient operations without shifting elements."
      ],
      "id": "6dM9ErI1yuKv"
    },
    {
      "cell_type": "code",
      "metadata": {
        "id": "OkcuXrWIyuKw"
      },
      "source": [
        "// Queue implementation using Linked List\n",
        "#include <iostream>\n",
        "using namespace std;\n",
        "\n",
        "struct QueueNode {\n",
        "    int data;\n",
        "    QueueNode* next;\n",
        "};\n",
        "\n",
        "class Queue {\n",
        "private:\n",
        "    QueueNode *front, *rear;\n",
        "public:\n",
        "    Queue() {\n",
        "        front = rear = nullptr;\n",
        "    }\n",
        "\n",
        "    void enqueue(int value) {\n",
        "        QueueNode* newNode = new QueueNode{value, nullptr};\n",
        "        if (!rear) {\n",
        "            front = rear = newNode;\n",
        "            return;\n",
        "        }\n",
        "        rear->next = newNode;\n",
        "        rear = newNode;\n",
        "    }\n",
        "\n",
        "    void dequeue() {\n",
        "        if (!front) {\n",
        "            cout << \"Queue Underflow\\n\";\n",
        "            return;\n",
        "        }\n",
        "        QueueNode* temp = front;\n",
        "        front = front->next;\n",
        "        if (!front) rear = nullptr;\n",
        "        delete temp;\n",
        "    }\n",
        "\n",
        "    int getFront() {\n",
        "        if (!front) return -1;\n",
        "        return front->data;\n",
        "    }\n",
        "\n",
        "    bool isEmpty() {\n",
        "        return front == nullptr;\n",
        "    }\n",
        "\n",
        "    void display() {\n",
        "        QueueNode* temp = front;\n",
        "        while (temp) {\n",
        "            cout << temp->data << \" \";\n",
        "            temp = temp->next;\n",
        "        }\n",
        "        cout << endl;\n",
        "    }\n",
        "};"
      ],
      "id": "OkcuXrWIyuKw",
      "execution_count": null,
      "outputs": []
    },
    {
      "cell_type": "markdown",
      "metadata": {
        "id": "-6eZR4rvyuKx"
      },
      "source": [
        "### Summary\n",
        "- **Linked Stacks** provide efficient LIFO access without resizing.\n",
        "- **Linked Queues** offer dynamic FIFO behavior suitable for buffering and scheduling.\n",
        "- Both use dynamic memory, avoiding limitations of static arrays."
      ],
      "id": "-6eZR4rvyuKx"
    }
  ],
  "metadata": {
    "kernelspec": {
      "display_name": "C++",
      "language": "C++",
      "name": "xcpp"
    },
    "language_info": {
      "file_extension": ".cpp",
      "mimetype": "text/x-c++src",
      "name": "C++",
      "version": "17"
    },
    "colab": {
      "provenance": [],
      "include_colab_link": true
    }
  },
  "nbformat": 4,
  "nbformat_minor": 5
}