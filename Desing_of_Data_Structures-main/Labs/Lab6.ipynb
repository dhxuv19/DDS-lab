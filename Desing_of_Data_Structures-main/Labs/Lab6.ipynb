{
  "nbformat": 4,
  "nbformat_minor": 0,
  "metadata": {
    "colab": {
      "provenance": [],
      "authorship_tag": "ABX9TyOqoK7qiCdNCpjiIhaq/yd2",
      "include_colab_link": true
    },
    "kernelspec": {
      "name": "python3",
      "display_name": "Python 3"
    },
    "language_info": {
      "name": "python"
    }
  },
  "cells": [
    {
      "cell_type": "markdown",
      "metadata": {
        "id": "view-in-github",
        "colab_type": "text"
      },
      "source": [
        "<a href=\"https://colab.research.google.com/github/Vikaskr06/Desing_of_Data_Structures/blob/main/Labs/Lab6.ipynb\" target=\"_parent\"><img src=\"https://colab.research.google.com/assets/colab-badge.svg\" alt=\"Open In Colab\"/></a>"
      ]
    },
    {
      "cell_type": "markdown",
      "source": [
        " # **LAB- 6:-Singly Linked List (Operations)**\n"
      ],
      "metadata": {
        "id": "-2VthHJxaMAK"
      }
    },
    {
      "cell_type": "markdown",
      "source": [
        "**🎯Objective:**\n",
        "\n",
        "* Implement Single Linked lists and its operations(creation insertion deletion traversal search reverse)"
      ],
      "metadata": {
        "id": "3ZbpVIQna2NA"
      }
    },
    {
      "cell_type": "markdown",
      "source": [
        "**Concept:**\n",
        "\n",
        "A singly linked list is a linear dynamic data structure where each element (node) contains:\n",
        "* data (value)\n",
        "* next pointer (link to next node)\n",
        "\n",
        "🧠 Operations Covered:\n",
        "\n",
        "* Insert at beginning\n",
        "\n",
        "* Insert at end\n",
        "\n",
        "* Delete a node\n",
        "\n",
        "* Traverse (display all)\n",
        "\n",
        "* Search\n",
        "\n",
        "* Reverse the list"
      ],
      "metadata": {
        "id": "W6UTj7qibo7V"
      }
    },
    {
      "cell_type": "markdown",
      "source": [
        " **C++ Code**"
      ],
      "metadata": {
        "id": "W7ZW6cAWc3PS"
      }
    },
    {
      "cell_type": "code",
      "source": [
        "%%writefile lab6_linkedlist.cpp\n",
        "#include <iostream>\n",
        "using namespace std;\n",
        "\n",
        "struct Node {\n",
        "    int data;\n",
        "    Node* next;\n",
        "};\n",
        "\n",
        "class LinkedList {\n",
        "    Node* head;\n",
        "public:\n",
        "    LinkedList() {\n",
        "        head = nullptr;\n",
        "    }\n",
        "\n",
        "    void insertAtEnd(int val) {\n",
        "        Node* newNode = new Node{val, nullptr};\n",
        "        if (!head) head = newNode;\n",
        "        else {\n",
        "            Node* temp = head;\n",
        "            while (temp->next) temp = temp->next;\n",
        "            temp->next = newNode;\n",
        "        }\n",
        "    }\n",
        "\n",
        "    void insertAtBeginning(int val) {\n",
        "        Node* newNode = new Node{val, head};\n",
        "        head = newNode;\n",
        "    }\n",
        "\n",
        "    void deleteNode(int val) {\n",
        "        if (!head) return;\n",
        "        if (head->data == val) {\n",
        "            Node* temp = head;\n",
        "            head = head->next;\n",
        "            delete temp;\n",
        "            return;\n",
        "        }\n",
        "        Node* temp = head;\n",
        "        while (temp->next && temp->next->data != val)\n",
        "            temp = temp->next;\n",
        "        if (temp->next) {\n",
        "            Node* del = temp->next;\n",
        "            temp->next = del->next;\n",
        "            delete del;\n",
        "        }\n",
        "    }\n",
        "\n",
        "    void traverse() {\n",
        "        Node* temp = head;\n",
        "        cout << \"List: \";\n",
        "        while (temp) {\n",
        "            cout << temp->data << \" \";\n",
        "            temp = temp->next;\n",
        "        }\n",
        "        cout << endl;\n",
        "    }\n",
        "\n",
        "    void search(int key) {\n",
        "        Node* temp = head;\n",
        "        while (temp) {\n",
        "            if (temp->data == key) {\n",
        "                cout << \"Element \" << key << \" found.\" << endl;\n",
        "                return;\n",
        "            }\n",
        "            temp = temp->next;\n",
        "        }\n",
        "        cout << \"Element not found.\" << endl;\n",
        "    }\n",
        "\n",
        "    void reverse() {\n",
        "        Node* prev = nullptr, *curr = head, *next = nullptr;\n",
        "        while (curr) {\n",
        "            next = curr->next;\n",
        "            curr->next = prev;\n",
        "            prev = curr;\n",
        "            curr = next;\n",
        "        }\n",
        "        head = prev;\n",
        "    }\n",
        "};\n",
        "\n",
        "int main() {\n",
        "    LinkedList list;\n",
        "    list.insertAtEnd(10);\n",
        "    list.insertAtEnd(20);\n",
        "    list.insertAtBeginning(5);\n",
        "    list.traverse();\n",
        "    list.search(20);\n",
        "    list.deleteNode(10);\n",
        "    list.traverse();\n",
        "    list.reverse();\n",
        "    list.traverse();\n",
        "    return 0;\n",
        "}\n"
      ],
      "metadata": {
        "colab": {
          "base_uri": "https://localhost:8080/"
        },
        "id": "ar19MESQcHDe",
        "outputId": "8875a5bd-2b8e-4292-fa04-085752af0572"
      },
      "execution_count": 16,
      "outputs": [
        {
          "output_type": "stream",
          "name": "stdout",
          "text": [
            "Writing lab6_linkedlist.cpp\n"
          ]
        }
      ]
    },
    {
      "cell_type": "code",
      "source": [
        "!g++ lab6_linkedlist.cpp -o lab6_linkedlist\n",
        "\n"
      ],
      "metadata": {
        "id": "sXIkjrlXiR4v"
      },
      "execution_count": 17,
      "outputs": []
    },
    {
      "cell_type": "code",
      "source": [
        "!./lab6_linkedlist\n",
        "\n"
      ],
      "metadata": {
        "colab": {
          "base_uri": "https://localhost:8080/"
        },
        "id": "N-ux9jkqiTMZ",
        "outputId": "9158c7fc-7f60-45c6-ee9c-7bbca2daf55e"
      },
      "execution_count": 18,
      "outputs": [
        {
          "output_type": "stream",
          "name": "stdout",
          "text": [
            "List: 5 10 20 \n",
            "Element 20 found.\n",
            "List: 5 20 \n",
            "List: 20 5 \n"
          ]
        }
      ]
    },
    {
      "cell_type": "markdown",
      "source": [
        "**C code**"
      ],
      "metadata": {
        "id": "rYBse_0wcler"
      }
    },
    {
      "cell_type": "code",
      "source": [
        "%%writefile lab6_linkedlist.c\n",
        "#include <stdio.h>\n",
        "#include <stdlib.h>\n",
        "\n",
        "struct Node {\n",
        "    int data;\n",
        "    struct Node* next;\n",
        "};\n",
        "\n",
        "struct Node* head = NULL;\n",
        "\n",
        "void insertAtEnd(int val) {\n",
        "    struct Node* newNode = (struct Node*)malloc(sizeof(struct Node));\n",
        "    newNode->data = val;\n",
        "    newNode->next = NULL;\n",
        "    if (head == NULL)\n",
        "        head = newNode;\n",
        "    else {\n",
        "        struct Node* temp = head;\n",
        "        while (temp->next != NULL)\n",
        "            temp = temp->next;\n",
        "        temp->next = newNode;\n",
        "    }\n",
        "}\n",
        "\n",
        "void insertAtBeginning(int val) {\n",
        "    struct Node* newNode = (struct Node*)malloc(sizeof(struct Node));\n",
        "    newNode->data = val;\n",
        "    newNode->next = head;\n",
        "    head = newNode;\n",
        "}\n",
        "\n",
        "void deleteNode(int val) {\n",
        "    struct Node *temp = head, *prev = NULL;\n",
        "    while (temp != NULL && temp->data != val) {\n",
        "        prev = temp;\n",
        "        temp = temp->next;\n",
        "    }\n",
        "    if (temp == NULL) return;\n",
        "    if (prev == NULL) head = temp->next;\n",
        "    else prev->next = temp->next;\n",
        "    free(temp);\n",
        "}\n",
        "\n",
        "void traverse() {\n",
        "    struct Node* temp = head;\n",
        "    printf(\"List: \");\n",
        "    while (temp != NULL) {\n",
        "        printf(\"%d \", temp->data);\n",
        "        temp = temp->next;\n",
        "    }\n",
        "    printf(\"\\n\");\n",
        "}\n",
        "\n",
        "void search(int key) {\n",
        "    struct Node* temp = head;\n",
        "    while (temp != NULL) {\n",
        "        if (temp->data == key) {\n",
        "            printf(\"Element %d found.\\n\", key);\n",
        "            return;\n",
        "        }\n",
        "        temp = temp->next;\n",
        "    }\n",
        "    printf(\"Element %d not found.\\n\", key);\n",
        "}\n",
        "\n",
        "void reverse() {\n",
        "    struct Node *prev = NULL, *curr = head, *next = NULL;\n",
        "    while (curr != NULL) {\n",
        "        next = curr->next;\n",
        "        curr->next = prev;\n",
        "        prev = curr;\n",
        "        curr = next;\n",
        "    }\n",
        "    head = prev;\n",
        "}\n",
        "\n",
        "int main() {\n",
        "    insertAtEnd(10);\n",
        "    insertAtEnd(20);\n",
        "    insertAtBeginning(5);\n",
        "    traverse();\n",
        "    search(20);\n",
        "    deleteNode(10);\n",
        "    traverse();\n",
        "    reverse();\n",
        "    traverse();\n",
        "    return 0;\n",
        "}\n"
      ],
      "metadata": {
        "id": "2SHPVlducsTd",
        "colab": {
          "base_uri": "https://localhost:8080/"
        },
        "outputId": "1d55bc3d-4e9d-413d-a2b9-0fff1f65c017"
      },
      "execution_count": 19,
      "outputs": [
        {
          "output_type": "stream",
          "name": "stdout",
          "text": [
            "Writing lab6_linkedlist.c\n"
          ]
        }
      ]
    },
    {
      "cell_type": "code",
      "source": [
        "# Compile the C program\n",
        "!gcc lab6_linkedlist.c -o lab6_linkedlist\n",
        "\n"
      ],
      "metadata": {
        "id": "peml3SpSzZBB"
      },
      "execution_count": 20,
      "outputs": []
    },
    {
      "cell_type": "code",
      "source": [
        "!./lab6_linkedlist\n"
      ],
      "metadata": {
        "colab": {
          "base_uri": "https://localhost:8080/"
        },
        "id": "h76-AJwonDGm",
        "outputId": "ee184186-1a06-4dc3-8bff-47ec90636121"
      },
      "execution_count": 21,
      "outputs": [
        {
          "output_type": "stream",
          "name": "stdout",
          "text": [
            "List: 5 10 20 \n",
            "Element 20 found.\n",
            "List: 5 20 \n",
            "List: 20 5 \n"
          ]
        }
      ]
    },
    {
      "cell_type": "markdown",
      "source": [
        "**🐍 Python Code**"
      ],
      "metadata": {
        "id": "T8OLVHfKp-Sy"
      }
    },
    {
      "cell_type": "code",
      "source": [
        "class Node:\n",
        "    def __init__(self, data):\n",
        "        self.data = data\n",
        "        self.next = None\n",
        "\n",
        "class SinglyLinkedList:\n",
        "    def __init__(self):\n",
        "        self.head = None\n",
        "\n",
        "    def insert_at_end(self, data):\n",
        "        new_node = Node(data)\n",
        "        if not self.head:\n",
        "            self.head = new_node\n",
        "            return\n",
        "        temp = self.head\n",
        "        while temp.next:\n",
        "            temp = temp.next\n",
        "        temp.next = new_node\n",
        "\n",
        "    def insert_at_beginning(self, data):\n",
        "        new_node = Node(data)\n",
        "        new_node.next = self.head\n",
        "        self.head = new_node\n",
        "\n",
        "    def delete_node(self, key):\n",
        "        temp = self.head\n",
        "        prev = None\n",
        "        while temp and temp.data != key:\n",
        "            prev = temp\n",
        "            temp = temp.next\n",
        "        if not temp:\n",
        "            print(f\"Element {key} not found.\")\n",
        "            return\n",
        "        if not prev:\n",
        "            self.head = temp.next\n",
        "        else:\n",
        "            prev.next = temp.next\n",
        "        print(f\"Deleted: {key}\")\n",
        "\n",
        "    def traverse(self):\n",
        "        temp = self.head\n",
        "        print(\"List:\", end=\" \")\n",
        "        while temp:\n",
        "            print(temp.data, end=\" \")\n",
        "            temp = temp.next\n",
        "        print()\n",
        "\n",
        "    def search(self, key):\n",
        "        temp = self.head\n",
        "        while temp:\n",
        "            if temp.data == key:\n",
        "                print(f\"Element {key} found.\")\n",
        "                return\n",
        "            temp = temp.next\n",
        "        print(f\"Element {key} not found.\")\n",
        "\n",
        "    def reverse(self):\n",
        "        prev = None\n",
        "        curr = self.head\n",
        "        while curr:\n",
        "            nxt = curr.next\n",
        "            curr.next = prev\n",
        "            prev = curr\n",
        "            curr = nxt\n",
        "        self.head = prev\n",
        "        print(\"List reversed.\")\n",
        "\n",
        "\n",
        "# Driver Code (Just like main function)\n",
        "if __name__ == \"__main__\":\n",
        "    ll = SinglyLinkedList()\n",
        "    ll.insert_at_end(10)\n",
        "    ll.insert_at_end(20)\n",
        "    ll.insert_at_beginning(5)\n",
        "    ll.traverse()\n",
        "    ll.search(20)\n",
        "    ll.delete_node(10)\n",
        "    ll.traverse()\n",
        "    ll.reverse()\n",
        "    ll.traverse()\n"
      ],
      "metadata": {
        "id": "KwEEJjHgqHcI",
        "outputId": "4413673e-d0a5-4d75-a8ca-e96f0c94b662",
        "colab": {
          "base_uri": "https://localhost:8080/"
        }
      },
      "execution_count": 22,
      "outputs": [
        {
          "output_type": "stream",
          "name": "stdout",
          "text": [
            "List: 5 10 20 \n",
            "Element 20 found.\n",
            "Deleted: 10\n",
            "List: 5 20 \n",
            "List reversed.\n",
            "List: 20 5 \n"
          ]
        }
      ]
    }
  ]
}